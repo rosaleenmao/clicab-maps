{
 "cells": [
  {
   "cell_type": "code",
   "execution_count": null,
   "metadata": {},
   "outputs": [],
   "source": [
    "import geopandas as gpd\n",
    "import matplotlib.pyplot as plt\n",
    "import pandas as pd\n",
    "import credentials\n",
    "from pyairtable import Table\n",
    "import folium"
   ]
  },
  {
   "cell_type": "markdown",
   "metadata": {},
   "source": [
    "SETUP"
   ]
  },
  {
   "cell_type": "code",
   "execution_count": null,
   "metadata": {},
   "outputs": [],
   "source": [
    "# this is just to get rid of an annoying warning that doesn't actually apply to this code\n",
    "pd.options.mode.chained_assignment = None\n",
    "\n",
    "# pull data from airtable\n",
    "api_key = credentials.AIRTABLE_API_KEY\n",
    "\n",
    "base_id = 'appK4hPIw3yecviBP'\n",
    "table_id = 'tblUhVjXhOKsYqd3x'\n",
    "# this is the fossil fuel plant only view\n",
    "view_id = 'viwCiVUfX5kemiT2z'\n",
    "fields = ['Plant Code', 'Generators from 1982 or older', 'Ownership']\n",
    "\n",
    "table = Table(api_key, base_id, table_id)\n",
    "\n",
    "# read EIA data and US map\n",
    "plants_location = \"shapefiles/Plants/PowerPlants_US_202108.shp\"\n",
    "US_map_location = \"shapefiles/US/cb_2018_us_nation_20m.shp\"\n",
    "\n",
    "# read files into data frames\n",
    "plants = gpd.read_file(plants_location)\n",
    "US_map = gpd.read_file(US_map_location)"
   ]
  },
  {
   "cell_type": "markdown",
   "metadata": {},
   "source": [
    "DATA GATHERING"
   ]
  },
  {
   "cell_type": "code",
   "execution_count": null,
   "metadata": {},
   "outputs": [],
   "source": [
    "# create new columns in EIA data frames to insert airtable data into\n",
    "plants['old_generators'] = 0\n",
    "plants['ownership'] = \"\"\n",
    "\n",
    "# insert airtable data into EIA data frames\n",
    "for page in table.iterate(view = view_id, fields = fields):\n",
    "    for airtable_plant in page:\n",
    "        # store field values from airtable data\n",
    "        fields = airtable_plant['fields']\n",
    "        plant_code = fields['Plant Code']\n",
    "        old_generators = fields['Generators from 1982 or older']\n",
    "        ownership = fields['Ownership']\n",
    "\n",
    "        # locate matching record in EIA data and set old_generators to correct value\n",
    "        plants.loc[plants['Plant_Code'] == plant_code, ['old_generators']] = old_generators\n",
    "        plants.loc[plants['Plant_Code'] == plant_code, ['ownership']] = ownership"
   ]
  },
  {
   "cell_type": "markdown",
   "metadata": {},
   "source": [
    "DATA MODIFICATION"
   ]
  },
  {
   "cell_type": "code",
   "execution_count": null,
   "metadata": {},
   "outputs": [],
   "source": [
    "# filter out unwanted plants\n",
    "target_plants = plants[(plants.old_generators > 0) & (plants.ownership == 'S')]\n",
    "\n",
    "# normalize plant size\n",
    "scale = 20\n",
    "base = 5\n",
    "\n",
    "largest_plant_size = target_plants['Total_MW'].max()\n",
    "smallest_plant_size = target_plants['Total_MW'].min()\n",
    "plant_size_range = largest_plant_size - smallest_plant_size\n",
    "target_plants['norm_plant_size'] = (target_plants.Total_MW - smallest_plant_size) / plant_size_range * scale + base\n",
    "\n",
    "# create color buckets\n",
    "# these are assigned numbers because folium requires each point be added individually, so a color map cannot be used\n",
    "# colors are assigned when the map is created\n",
    "target_plants['old_generator_bucket'] = 0\n",
    "\n",
    "target_plants.loc[(target_plants['old_generators'] > 0) & (target_plants['old_generators'] <= 4), ['old_generator_bucket']] = 1\n",
    "target_plants.loc[(target_plants['old_generators'] > 4) & (target_plants['old_generators'] <= 8), ['old_generator_bucket']] = 2\n",
    "target_plants.loc[(target_plants['old_generators'] > 8) & (target_plants['old_generators'] <= 12), ['old_generator_bucket']] = 3\n",
    "target_plants.loc[(target_plants['old_generators'] > 12) & (target_plants['old_generators'] <= 20), ['old_generator_bucket']] = 4"
   ]
  },
  {
   "cell_type": "markdown",
   "metadata": {},
   "source": [
    "DEBUGGING"
   ]
  },
  {
   "cell_type": "code",
   "execution_count": null,
   "metadata": {},
   "outputs": [],
   "source": [
    "# # print the columns in terminal\n",
    "# pd.set_option(\"display.max_rows\", None, 'display.max_columns',None)\n",
    "# print(target_plants.head())"
   ]
  },
  {
   "cell_type": "markdown",
   "metadata": {},
   "source": [
    "PLOTTING"
   ]
  },
  {
   "cell_type": "code",
   "execution_count": null,
   "metadata": {},
   "outputs": [],
   "source": [
    "# make the map\n",
    "m = folium.Map(location=[39, -98], zoom_start=5)\n",
    "\n",
    "# iterate through all the rows to add each plant to the map individually\n",
    "for row in target_plants.itertuples():\n",
    "   # grab and format tooltip/popup information\n",
    "   plant_name = \"Plant name: \" + row.Plant_Name\n",
    "   utility_name = \"Utility name: \" + row.Utility_Na\n",
    "   city = \"City: \" + row.City\n",
    "   state = \"State: \" + row.StateName\n",
    "   html = plant_name + \"<br>\" + utility_name + \"<br>\" + city + \"<br>\" + state\n",
    "\n",
    "   # assign colors\n",
    "   color = \"\"\n",
    "   if row.old_generator_bucket == 1:\n",
    "      color = '#440154'\n",
    "   if row.old_generator_bucket == 2:\n",
    "      color = '#31688e'\n",
    "   if row.old_generator_bucket == 3:\n",
    "      color = '#35b779'\n",
    "   if row.old_generator_bucket == 4:\n",
    "      color = '#fde725'\n",
    "\n",
    "   # set up popup\n",
    "   iframe = folium.IFrame(html)\n",
    "   popup = folium.Popup(iframe,\n",
    "                     min_width=300,\n",
    "                     max_width=300)\n",
    "\n",
    "   # generate icons\n",
    "   size=row.norm_plant_size\n",
    "   icon=folium.DivIcon(html=f\"\"\"\n",
    "                        <div><svg>\n",
    "                           <circle cx=\"{size}\" cy=\"{size}\" r=\"{size}\" fill=\"{color}\" opacity=\".7\"/>\n",
    "                        </svg></div>\"\"\")\n",
    "\n",
    "   # add each marker individually\n",
    "   folium.Marker(\n",
    "      location=[row.Latitude, row.Longitude],\n",
    "      tooltip=plant_name,\n",
    "      popup=popup,\n",
    "      icon=icon,\n",
    "   ).add_to(m)\n",
    "\n",
    "m"
   ]
  },
  {
   "cell_type": "markdown",
   "metadata": {},
   "source": [
    "SAVING"
   ]
  },
  {
   "cell_type": "code",
   "execution_count": 193,
   "metadata": {},
   "outputs": [],
   "source": [
    "m.save(\"dynamic_map.html\")"
   ]
  }
 ],
 "metadata": {
  "kernelspec": {
   "display_name": "dynamic_maps",
   "language": "python",
   "name": "dynamic_maps"
  },
  "language_info": {
   "codemirror_mode": {
    "name": "ipython",
    "version": 3
   },
   "file_extension": ".py",
   "mimetype": "text/x-python",
   "name": "python",
   "nbconvert_exporter": "python",
   "pygments_lexer": "ipython3",
   "version": "3.8.3"
  },
  "orig_nbformat": 4,
  "vscode": {
   "interpreter": {
    "hash": "31f2aee4e71d21fbe5cf8b01ff0e069b9275f58929596ceb00d14d90e3e16cd6"
   }
  }
 },
 "nbformat": 4,
 "nbformat_minor": 2
}
